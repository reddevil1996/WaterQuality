{
 "cells": [
  {
   "cell_type": "code",
   "execution_count": 1,
   "metadata": {
    "collapsed": true
   },
   "outputs": [],
   "source": [
    "import pandas as pd\n",
    "import matplotlib.pyplot as plt\n",
    "import seaborn as sb"
   ]
  },
  {
   "cell_type": "code",
   "execution_count": 2,
   "outputs": [
    {
     "data": {
      "text/plain": "         ph    Hardness        Solids  Chloramines     Sulfate  Conductivity  \\\n0       NaN  204.890455  20791.318981     7.300212  368.516441    564.308654   \n1  3.716080  129.422921  18630.057858     6.635246         NaN    592.885359   \n2  8.099124  224.236259  19909.541732     9.275884         NaN    418.606213   \n3  8.316766  214.373394  22018.417441     8.059332  356.886136    363.266516   \n4  9.092223  181.101509  17978.986339     6.546600  310.135738    398.410813   \n\n   Organic_carbon  Trihalomethanes  Turbidity  Potability  \n0       10.379783        86.990970   2.963135           0  \n1       15.180013        56.329076   4.500656           0  \n2       16.868637        66.420093   3.055934           0  \n3       18.436524       100.341674   4.628771           0  \n4       11.558279        31.997993   4.075075           0  ",
      "text/html": "<div>\n<style scoped>\n    .dataframe tbody tr th:only-of-type {\n        vertical-align: middle;\n    }\n\n    .dataframe tbody tr th {\n        vertical-align: top;\n    }\n\n    .dataframe thead th {\n        text-align: right;\n    }\n</style>\n<table border=\"1\" class=\"dataframe\">\n  <thead>\n    <tr style=\"text-align: right;\">\n      <th></th>\n      <th>ph</th>\n      <th>Hardness</th>\n      <th>Solids</th>\n      <th>Chloramines</th>\n      <th>Sulfate</th>\n      <th>Conductivity</th>\n      <th>Organic_carbon</th>\n      <th>Trihalomethanes</th>\n      <th>Turbidity</th>\n      <th>Potability</th>\n    </tr>\n  </thead>\n  <tbody>\n    <tr>\n      <th>0</th>\n      <td>NaN</td>\n      <td>204.890455</td>\n      <td>20791.318981</td>\n      <td>7.300212</td>\n      <td>368.516441</td>\n      <td>564.308654</td>\n      <td>10.379783</td>\n      <td>86.990970</td>\n      <td>2.963135</td>\n      <td>0</td>\n    </tr>\n    <tr>\n      <th>1</th>\n      <td>3.716080</td>\n      <td>129.422921</td>\n      <td>18630.057858</td>\n      <td>6.635246</td>\n      <td>NaN</td>\n      <td>592.885359</td>\n      <td>15.180013</td>\n      <td>56.329076</td>\n      <td>4.500656</td>\n      <td>0</td>\n    </tr>\n    <tr>\n      <th>2</th>\n      <td>8.099124</td>\n      <td>224.236259</td>\n      <td>19909.541732</td>\n      <td>9.275884</td>\n      <td>NaN</td>\n      <td>418.606213</td>\n      <td>16.868637</td>\n      <td>66.420093</td>\n      <td>3.055934</td>\n      <td>0</td>\n    </tr>\n    <tr>\n      <th>3</th>\n      <td>8.316766</td>\n      <td>214.373394</td>\n      <td>22018.417441</td>\n      <td>8.059332</td>\n      <td>356.886136</td>\n      <td>363.266516</td>\n      <td>18.436524</td>\n      <td>100.341674</td>\n      <td>4.628771</td>\n      <td>0</td>\n    </tr>\n    <tr>\n      <th>4</th>\n      <td>9.092223</td>\n      <td>181.101509</td>\n      <td>17978.986339</td>\n      <td>6.546600</td>\n      <td>310.135738</td>\n      <td>398.410813</td>\n      <td>11.558279</td>\n      <td>31.997993</td>\n      <td>4.075075</td>\n      <td>0</td>\n    </tr>\n  </tbody>\n</table>\n</div>"
     },
     "execution_count": 2,
     "metadata": {},
     "output_type": "execute_result"
    }
   ],
   "source": [
    "df = pd.read_csv(r\"water_potability.csv\")\n",
    "df.head()"
   ],
   "metadata": {
    "collapsed": false,
    "pycharm": {
     "name": "#%%\n"
    }
   }
  },
  {
   "cell_type": "code",
   "execution_count": 3,
   "outputs": [
    {
     "data": {
      "text/plain": "ph                 491\nHardness             0\nSolids               0\nChloramines          0\nSulfate            781\nConductivity         0\nOrganic_carbon       0\nTrihalomethanes    162\nTurbidity            0\nPotability           0\ndtype: int64"
     },
     "execution_count": 3,
     "metadata": {},
     "output_type": "execute_result"
    }
   ],
   "source": [
    "df.isnull().sum()"
   ],
   "metadata": {
    "collapsed": false,
    "pycharm": {
     "name": "#%%\n"
    }
   }
  },
  {
   "cell_type": "code",
   "execution_count": 4,
   "outputs": [
    {
     "data": {
      "text/plain": "                ph     Hardness        Solids  Chloramines      Sulfate  \\\ncount  2785.000000  3276.000000   3276.000000  3276.000000  2495.000000   \nmean      7.080795   196.369496  22014.092526     7.122277   333.775777   \nstd       1.594320    32.879761   8768.570828     1.583085    41.416840   \nmin       0.000000    47.432000    320.942611     0.352000   129.000000   \n25%       6.093092   176.850538  15666.690297     6.127421   307.699498   \n50%       7.036752   196.967627  20927.833607     7.130299   333.073546   \n75%       8.062066   216.667456  27332.762127     8.114887   359.950170   \nmax      14.000000   323.124000  61227.196008    13.127000   481.030642   \n\n       Conductivity  Organic_carbon  Trihalomethanes    Turbidity   Potability  \ncount   3276.000000     3276.000000      3114.000000  3276.000000  3276.000000  \nmean     426.205111       14.284970        66.396293     3.966786     0.390110  \nstd       80.824064        3.308162        16.175008     0.780382     0.487849  \nmin      181.483754        2.200000         0.738000     1.450000     0.000000  \n25%      365.734414       12.065801        55.844536     3.439711     0.000000  \n50%      421.884968       14.218338        66.622485     3.955028     0.000000  \n75%      481.792304       16.557652        77.337473     4.500320     1.000000  \nmax      753.342620       28.300000       124.000000     6.739000     1.000000  ",
      "text/html": "<div>\n<style scoped>\n    .dataframe tbody tr th:only-of-type {\n        vertical-align: middle;\n    }\n\n    .dataframe tbody tr th {\n        vertical-align: top;\n    }\n\n    .dataframe thead th {\n        text-align: right;\n    }\n</style>\n<table border=\"1\" class=\"dataframe\">\n  <thead>\n    <tr style=\"text-align: right;\">\n      <th></th>\n      <th>ph</th>\n      <th>Hardness</th>\n      <th>Solids</th>\n      <th>Chloramines</th>\n      <th>Sulfate</th>\n      <th>Conductivity</th>\n      <th>Organic_carbon</th>\n      <th>Trihalomethanes</th>\n      <th>Turbidity</th>\n      <th>Potability</th>\n    </tr>\n  </thead>\n  <tbody>\n    <tr>\n      <th>count</th>\n      <td>2785.000000</td>\n      <td>3276.000000</td>\n      <td>3276.000000</td>\n      <td>3276.000000</td>\n      <td>2495.000000</td>\n      <td>3276.000000</td>\n      <td>3276.000000</td>\n      <td>3114.000000</td>\n      <td>3276.000000</td>\n      <td>3276.000000</td>\n    </tr>\n    <tr>\n      <th>mean</th>\n      <td>7.080795</td>\n      <td>196.369496</td>\n      <td>22014.092526</td>\n      <td>7.122277</td>\n      <td>333.775777</td>\n      <td>426.205111</td>\n      <td>14.284970</td>\n      <td>66.396293</td>\n      <td>3.966786</td>\n      <td>0.390110</td>\n    </tr>\n    <tr>\n      <th>std</th>\n      <td>1.594320</td>\n      <td>32.879761</td>\n      <td>8768.570828</td>\n      <td>1.583085</td>\n      <td>41.416840</td>\n      <td>80.824064</td>\n      <td>3.308162</td>\n      <td>16.175008</td>\n      <td>0.780382</td>\n      <td>0.487849</td>\n    </tr>\n    <tr>\n      <th>min</th>\n      <td>0.000000</td>\n      <td>47.432000</td>\n      <td>320.942611</td>\n      <td>0.352000</td>\n      <td>129.000000</td>\n      <td>181.483754</td>\n      <td>2.200000</td>\n      <td>0.738000</td>\n      <td>1.450000</td>\n      <td>0.000000</td>\n    </tr>\n    <tr>\n      <th>25%</th>\n      <td>6.093092</td>\n      <td>176.850538</td>\n      <td>15666.690297</td>\n      <td>6.127421</td>\n      <td>307.699498</td>\n      <td>365.734414</td>\n      <td>12.065801</td>\n      <td>55.844536</td>\n      <td>3.439711</td>\n      <td>0.000000</td>\n    </tr>\n    <tr>\n      <th>50%</th>\n      <td>7.036752</td>\n      <td>196.967627</td>\n      <td>20927.833607</td>\n      <td>7.130299</td>\n      <td>333.073546</td>\n      <td>421.884968</td>\n      <td>14.218338</td>\n      <td>66.622485</td>\n      <td>3.955028</td>\n      <td>0.000000</td>\n    </tr>\n    <tr>\n      <th>75%</th>\n      <td>8.062066</td>\n      <td>216.667456</td>\n      <td>27332.762127</td>\n      <td>8.114887</td>\n      <td>359.950170</td>\n      <td>481.792304</td>\n      <td>16.557652</td>\n      <td>77.337473</td>\n      <td>4.500320</td>\n      <td>1.000000</td>\n    </tr>\n    <tr>\n      <th>max</th>\n      <td>14.000000</td>\n      <td>323.124000</td>\n      <td>61227.196008</td>\n      <td>13.127000</td>\n      <td>481.030642</td>\n      <td>753.342620</td>\n      <td>28.300000</td>\n      <td>124.000000</td>\n      <td>6.739000</td>\n      <td>1.000000</td>\n    </tr>\n  </tbody>\n</table>\n</div>"
     },
     "execution_count": 4,
     "metadata": {},
     "output_type": "execute_result"
    }
   ],
   "source": [
    "df.describe()"
   ],
   "metadata": {
    "collapsed": false,
    "pycharm": {
     "name": "#%%\n"
    }
   }
  },
  {
   "cell_type": "code",
   "execution_count": 5,
   "outputs": [
    {
     "data": {
      "text/plain": "         ph    Hardness        Solids  Chloramines     Sulfate  Conductivity  \\\n0  7.080795  204.890455  20791.318981     7.300212  368.516441    564.308654   \n1  3.716080  129.422921  18630.057858     6.635246  333.775777    592.885359   \n2  8.099124  224.236259  19909.541732     9.275884  333.775777    418.606213   \n3  8.316766  214.373394  22018.417441     8.059332  356.886136    363.266516   \n4  9.092223  181.101509  17978.986339     6.546600  310.135738    398.410813   \n\n   Organic_carbon  Trihalomethanes  Turbidity  Potability  \n0       10.379783        86.990970   2.963135           0  \n1       15.180013        56.329076   4.500656           0  \n2       16.868637        66.420093   3.055934           0  \n3       18.436524       100.341674   4.628771           0  \n4       11.558279        31.997993   4.075075           0  ",
      "text/html": "<div>\n<style scoped>\n    .dataframe tbody tr th:only-of-type {\n        vertical-align: middle;\n    }\n\n    .dataframe tbody tr th {\n        vertical-align: top;\n    }\n\n    .dataframe thead th {\n        text-align: right;\n    }\n</style>\n<table border=\"1\" class=\"dataframe\">\n  <thead>\n    <tr style=\"text-align: right;\">\n      <th></th>\n      <th>ph</th>\n      <th>Hardness</th>\n      <th>Solids</th>\n      <th>Chloramines</th>\n      <th>Sulfate</th>\n      <th>Conductivity</th>\n      <th>Organic_carbon</th>\n      <th>Trihalomethanes</th>\n      <th>Turbidity</th>\n      <th>Potability</th>\n    </tr>\n  </thead>\n  <tbody>\n    <tr>\n      <th>0</th>\n      <td>7.080795</td>\n      <td>204.890455</td>\n      <td>20791.318981</td>\n      <td>7.300212</td>\n      <td>368.516441</td>\n      <td>564.308654</td>\n      <td>10.379783</td>\n      <td>86.990970</td>\n      <td>2.963135</td>\n      <td>0</td>\n    </tr>\n    <tr>\n      <th>1</th>\n      <td>3.716080</td>\n      <td>129.422921</td>\n      <td>18630.057858</td>\n      <td>6.635246</td>\n      <td>333.775777</td>\n      <td>592.885359</td>\n      <td>15.180013</td>\n      <td>56.329076</td>\n      <td>4.500656</td>\n      <td>0</td>\n    </tr>\n    <tr>\n      <th>2</th>\n      <td>8.099124</td>\n      <td>224.236259</td>\n      <td>19909.541732</td>\n      <td>9.275884</td>\n      <td>333.775777</td>\n      <td>418.606213</td>\n      <td>16.868637</td>\n      <td>66.420093</td>\n      <td>3.055934</td>\n      <td>0</td>\n    </tr>\n    <tr>\n      <th>3</th>\n      <td>8.316766</td>\n      <td>214.373394</td>\n      <td>22018.417441</td>\n      <td>8.059332</td>\n      <td>356.886136</td>\n      <td>363.266516</td>\n      <td>18.436524</td>\n      <td>100.341674</td>\n      <td>4.628771</td>\n      <td>0</td>\n    </tr>\n    <tr>\n      <th>4</th>\n      <td>9.092223</td>\n      <td>181.101509</td>\n      <td>17978.986339</td>\n      <td>6.546600</td>\n      <td>310.135738</td>\n      <td>398.410813</td>\n      <td>11.558279</td>\n      <td>31.997993</td>\n      <td>4.075075</td>\n      <td>0</td>\n    </tr>\n  </tbody>\n</table>\n</div>"
     },
     "execution_count": 5,
     "metadata": {},
     "output_type": "execute_result"
    }
   ],
   "source": [
    "df.fillna(df.mean(), inplace=True)\n",
    "df.head()"
   ],
   "metadata": {
    "collapsed": false,
    "pycharm": {
     "name": "#%%\n"
    }
   }
  },
  {
   "cell_type": "code",
   "execution_count": 6,
   "outputs": [
    {
     "data": {
      "text/plain": "<Figure size 432x288 with 1 Axes>",
      "image/png": "[encoded data removed]"
     },
     "metadata": {
      "needs_background": "light"
     },
     "output_type": "display_data"
    }
   ],
   "source": [
    "df.Potability.value_counts().plot(kind=\"bar\", color=[\"brown\", \"salmon\"])\n",
    "plt.show()"
   ],
   "metadata": {
    "collapsed": false,
    "pycharm": {
     "name": "#%%\n"
    }
   }
  },
  {
   "cell_type": "code",
   "execution_count": 7,
   "outputs": [],
   "source": [
    "X = df.drop('Potability', axis=1)"
   ],
   "metadata": {
    "collapsed": false,
    "pycharm": {
     "name": "#%%\n"
    }
   }
  },
  {
   "cell_type": "code",
   "execution_count": 8,
   "outputs": [],
   "source": [
    "Y = df['Potability']"
   ],
   "metadata": {
    "collapsed": false,
    "pycharm": {
     "name": "#%%\n"
    }
   }
  },
  {
   "cell_type": "code",
   "execution_count": 9,
   "outputs": [],
   "source": [
    "from sklearn.model_selection import train_test_split\n",
    "\n",
    "X_train, X_test, Y_train, Y_test = train_test_split(X, Y, test_size=0.2, random_state=101, shuffle=True)"
   ],
   "metadata": {
    "collapsed": false,
    "pycharm": {
     "name": "#%%\n"
    }
   }
  },
  {
   "cell_type": "code",
   "execution_count": 17,
   "outputs": [
    {
     "data": {
      "text/plain": "DecisionTreeClassifier(criterion='entropy', min_samples_split=8,\n                       splitter='random')"
     },
     "execution_count": 17,
     "metadata": {},
     "output_type": "execute_result"
    }
   ],
   "source": [
    "from sklearn.tree import DecisionTreeClassifier\n",
    "from sklearn.metrics import accuracy_score, confusion_matrix, precision_score\n",
    "\n",
    "dt = DecisionTreeClassifier(criterion='entropy', min_samples_split=8, splitter='random')\n",
    "dt.fit(X_train, Y_train)"
   ],
   "metadata": {
    "collapsed": false,
    "pycharm": {
     "name": "#%%\n"
    }
   }
  },
  {
   "cell_type": "code",
   "execution_count": 18,
   "outputs": [
    {
     "data": {
      "text/plain": "58.6890243902439"
     },
     "execution_count": 18,
     "metadata": {},
     "output_type": "execute_result"
    }
   ],
   "source": [
    "prediction = dt.predict(X_test)\n",
    "accuracy_dt = accuracy_score(Y_test, prediction) * 100\n",
    "accuracy_dt"
   ],
   "metadata": {
    "collapsed": false,
    "pycharm": {
     "name": "#%%\n"
    }
   }
  },
  {
   "cell_type": "code",
   "execution_count": 19,
   "outputs": [
    {
     "data": {
      "text/plain": "58.6890243902439"
     },
     "execution_count": 19,
     "metadata": {},
     "output_type": "execute_result"
    }
   ],
   "source": [
    "accuracy_score(prediction, Y_test) * 100"
   ],
   "metadata": {
    "collapsed": false,
    "pycharm": {
     "name": "#%%\n"
    }
   }
  },
  {
   "cell_type": "code",
   "execution_count": 13,
   "outputs": [
    {
     "data": {
      "text/plain": "dict_keys(['ccp_alpha', 'class_weight', 'criterion', 'max_depth', 'max_features', 'max_leaf_nodes', 'min_impurity_decrease', 'min_impurity_split', 'min_samples_leaf', 'min_samples_split', 'min_weight_fraction_leaf', 'random_state', 'splitter'])"
     },
     "execution_count": 13,
     "metadata": {},
     "output_type": "execute_result"
    }
   ],
   "source": [
    "dt.get_params().keys()\n"
   ],
   "metadata": {
    "collapsed": false,
    "pycharm": {
     "name": "#%%\n"
    }
   }
  },
  {
   "cell_type": "code",
   "execution_count": 15,
   "outputs": [
    {
     "name": "stdout",
     "output_type": "stream",
     "text": [
      "Best: 0.595 using {'criterion': 'entropy', 'min_samples_split': 8, 'splitter': 'random'}\n",
      "0.580 (0.035) with: {'criterion': 'gini', 'min_samples_split': 2, 'splitter': 'best'}\n",
      "0.570 (0.031) with: {'criterion': 'gini', 'min_samples_split': 2, 'splitter': 'random'}\n",
      "0.582 (0.036) with: {'criterion': 'gini', 'min_samples_split': 4, 'splitter': 'best'}\n",
      "0.578 (0.033) with: {'criterion': 'gini', 'min_samples_split': 4, 'splitter': 'random'}\n",
      "0.586 (0.031) with: {'criterion': 'gini', 'min_samples_split': 6, 'splitter': 'best'}\n",
      "0.585 (0.030) with: {'criterion': 'gini', 'min_samples_split': 6, 'splitter': 'random'}\n",
      "0.587 (0.028) with: {'criterion': 'gini', 'min_samples_split': 8, 'splitter': 'best'}\n",
      "0.588 (0.022) with: {'criterion': 'gini', 'min_samples_split': 8, 'splitter': 'random'}\n",
      "0.590 (0.027) with: {'criterion': 'gini', 'min_samples_split': 10, 'splitter': 'best'}\n",
      "0.576 (0.022) with: {'criterion': 'gini', 'min_samples_split': 10, 'splitter': 'random'}\n",
      "0.586 (0.034) with: {'criterion': 'entropy', 'min_samples_split': 2, 'splitter': 'best'}\n",
      "0.580 (0.031) with: {'criterion': 'entropy', 'min_samples_split': 2, 'splitter': 'random'}\n",
      "0.585 (0.029) with: {'criterion': 'entropy', 'min_samples_split': 4, 'splitter': 'best'}\n",
      "0.586 (0.032) with: {'criterion': 'entropy', 'min_samples_split': 4, 'splitter': 'random'}\n",
      "0.584 (0.031) with: {'criterion': 'entropy', 'min_samples_split': 6, 'splitter': 'best'}\n",
      "0.583 (0.026) with: {'criterion': 'entropy', 'min_samples_split': 6, 'splitter': 'random'}\n",
      "0.585 (0.028) with: {'criterion': 'entropy', 'min_samples_split': 8, 'splitter': 'best'}\n",
      "0.595 (0.027) with: {'criterion': 'entropy', 'min_samples_split': 8, 'splitter': 'random'}\n",
      "0.588 (0.031) with: {'criterion': 'entropy', 'min_samples_split': 10, 'splitter': 'best'}\n",
      "0.585 (0.032) with: {'criterion': 'entropy', 'min_samples_split': 10, 'splitter': 'random'}\n",
      "Training Score: 88.1297709923664\n",
      "Testing Score: 55.03048780487805\n"
     ]
    }
   ],
   "source": [
    "#example of grid searching key hyperparametres for logistic regression\n",
    "from sklearn.model_selection import RepeatedStratifiedKFold\n",
    "from sklearn.model_selection import GridSearchCV\n",
    "\n",
    "# define models and parameters\n",
    "model = DecisionTreeClassifier()\n",
    "criterion = [\"gini\", \"entropy\"]\n",
    "splitter = [\"best\", \"random\"]\n",
    "min_samples_split = [2, 4, 6, 8, 10]\n",
    "\n",
    "# define grid search\n",
    "grid = dict(splitter=splitter, criterion=criterion, min_samples_split=min_samples_split)\n",
    "cv = RepeatedStratifiedKFold(n_splits=10, n_repeats=3, random_state=1)\n",
    "grid_search_dt = GridSearchCV(estimator=model, param_grid=grid, n_jobs=-1, cv=cv,\n",
    "                              scoring='accuracy', error_score=0)\n",
    "grid_search_dt.fit(X_train, Y_train)\n",
    "\n",
    "# summarize results\n",
    "print(f\"Best: {grid_search_dt.best_score_:.3f} using {grid_search_dt.best_params_}\")\n",
    "means = grid_search_dt.cv_results_['mean_test_score']\n",
    "stds = grid_search_dt.cv_results_['std_test_score']\n",
    "params = grid_search_dt.cv_results_['params']\n",
    "\n",
    "for mean, stdev, param in zip(means, stds, params):\n",
    "    print(f\"{mean:.3f} ({stdev:.3f}) with: {param}\")\n",
    "\n",
    "print(\"Training Score:\", grid_search_dt.score(X_train, Y_train) * 100)\n",
    "print(\"Testing Score:\", grid_search_dt.score(X_test, Y_test) * 100)"
   ],
   "metadata": {
    "collapsed": false,
    "pycharm": {
     "name": "#%%\n"
    }
   }
  },
  {
   "cell_type": "code",
   "execution_count": 16,
   "outputs": [
    {
     "data": {
      "text/plain": "{'criterion': 'entropy', 'min_samples_split': 8, 'splitter': 'random'}"
     },
     "execution_count": 16,
     "metadata": {},
     "output_type": "execute_result"
    }
   ],
   "source": [
    "grid_search_dt.best_params_"
   ],
   "metadata": {
    "collapsed": false,
    "pycharm": {
     "name": "#%%\n"
    }
   }
  },
  {
   "cell_type": "code",
   "execution_count": 20,
   "outputs": [],
   "source": [
    "import pickle\n",
    "pickle_out = open(\"classifier.pkl\",\"wb\")\n",
    "pickle.dump(dt, pickle_out)\n",
    "pickle_out.close()"
   ],
   "metadata": {
    "collapsed": false,
    "pycharm": {
     "name": "#%%\n"
    }
   }
  }
 ],
 "metadata": {
  "kernelspec": {
   "display_name": "Python 3",
   "language": "python",
   "name": "python3"
  },
  "language_info": {
   "codemirror_mode": {
    "name": "ipython",
    "version": 2
   },
   "file_extension": ".py",
   "mimetype": "text/x-python",
   "name": "python",
   "nbconvert_exporter": "python",
   "pygments_lexer": "ipython2",
   "version": "2.7.6"
  }
 },
 "nbformat": 4,
 "nbformat_minor": 0
}